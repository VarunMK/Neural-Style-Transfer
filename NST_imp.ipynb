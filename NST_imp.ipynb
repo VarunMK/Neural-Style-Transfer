{
  "nbformat": 4,
  "nbformat_minor": 0,
  "metadata": {
    "colab": {
      "name": "NST_imp.ipynb",
      "provenance": [],
      "authorship_tag": "ABX9TyO/fxzUAXNMGvemQFCLcInG"
    },
    "kernelspec": {
      "name": "python3",
      "display_name": "Python 3"
    },
    "language_info": {
      "name": "python"
    },
    "accelerator": "GPU"
  },
  "cells": [
    {
      "cell_type": "code",
      "metadata": {
        "id": "Gd6qNZeHDWgc"
      },
      "source": [
        "import torch\n",
        "import torch.nn as nn\n",
        "import torch.optim as optim\n",
        "from PIL import Image\n",
        "import torchvision.transforms as transforms\n",
        "import torchvision.models as models\n",
        "from torchvision.utils import save_image"
      ],
      "execution_count": 11,
      "outputs": []
    },
    {
      "cell_type": "code",
      "metadata": {
        "colab": {
          "base_uri": "https://localhost:8080/"
        },
        "id": "g7zLdnqWD5fT",
        "outputId": "1ff690e8-698e-405d-d609-a9039cacf247"
      },
      "source": [
        "model=models.vgg19(pretrained=True).features\n",
        "print(model) #0,5,10,19,28"
      ],
      "execution_count": 12,
      "outputs": [
        {
          "output_type": "stream",
          "text": [
            "Sequential(\n",
            "  (0): Conv2d(3, 64, kernel_size=(3, 3), stride=(1, 1), padding=(1, 1))\n",
            "  (1): ReLU(inplace=True)\n",
            "  (2): Conv2d(64, 64, kernel_size=(3, 3), stride=(1, 1), padding=(1, 1))\n",
            "  (3): ReLU(inplace=True)\n",
            "  (4): MaxPool2d(kernel_size=2, stride=2, padding=0, dilation=1, ceil_mode=False)\n",
            "  (5): Conv2d(64, 128, kernel_size=(3, 3), stride=(1, 1), padding=(1, 1))\n",
            "  (6): ReLU(inplace=True)\n",
            "  (7): Conv2d(128, 128, kernel_size=(3, 3), stride=(1, 1), padding=(1, 1))\n",
            "  (8): ReLU(inplace=True)\n",
            "  (9): MaxPool2d(kernel_size=2, stride=2, padding=0, dilation=1, ceil_mode=False)\n",
            "  (10): Conv2d(128, 256, kernel_size=(3, 3), stride=(1, 1), padding=(1, 1))\n",
            "  (11): ReLU(inplace=True)\n",
            "  (12): Conv2d(256, 256, kernel_size=(3, 3), stride=(1, 1), padding=(1, 1))\n",
            "  (13): ReLU(inplace=True)\n",
            "  (14): Conv2d(256, 256, kernel_size=(3, 3), stride=(1, 1), padding=(1, 1))\n",
            "  (15): ReLU(inplace=True)\n",
            "  (16): Conv2d(256, 256, kernel_size=(3, 3), stride=(1, 1), padding=(1, 1))\n",
            "  (17): ReLU(inplace=True)\n",
            "  (18): MaxPool2d(kernel_size=2, stride=2, padding=0, dilation=1, ceil_mode=False)\n",
            "  (19): Conv2d(256, 512, kernel_size=(3, 3), stride=(1, 1), padding=(1, 1))\n",
            "  (20): ReLU(inplace=True)\n",
            "  (21): Conv2d(512, 512, kernel_size=(3, 3), stride=(1, 1), padding=(1, 1))\n",
            "  (22): ReLU(inplace=True)\n",
            "  (23): Conv2d(512, 512, kernel_size=(3, 3), stride=(1, 1), padding=(1, 1))\n",
            "  (24): ReLU(inplace=True)\n",
            "  (25): Conv2d(512, 512, kernel_size=(3, 3), stride=(1, 1), padding=(1, 1))\n",
            "  (26): ReLU(inplace=True)\n",
            "  (27): MaxPool2d(kernel_size=2, stride=2, padding=0, dilation=1, ceil_mode=False)\n",
            "  (28): Conv2d(512, 512, kernel_size=(3, 3), stride=(1, 1), padding=(1, 1))\n",
            "  (29): ReLU(inplace=True)\n",
            "  (30): Conv2d(512, 512, kernel_size=(3, 3), stride=(1, 1), padding=(1, 1))\n",
            "  (31): ReLU(inplace=True)\n",
            "  (32): Conv2d(512, 512, kernel_size=(3, 3), stride=(1, 1), padding=(1, 1))\n",
            "  (33): ReLU(inplace=True)\n",
            "  (34): Conv2d(512, 512, kernel_size=(3, 3), stride=(1, 1), padding=(1, 1))\n",
            "  (35): ReLU(inplace=True)\n",
            "  (36): MaxPool2d(kernel_size=2, stride=2, padding=0, dilation=1, ceil_mode=False)\n",
            ")\n"
          ],
          "name": "stdout"
        }
      ]
    },
    {
      "cell_type": "code",
      "metadata": {
        "id": "KMvmtyFAEmsE"
      },
      "source": [
        "class vgg(nn.Module):\n",
        "  def __init__(self):\n",
        "    super(vgg,self).__init__()\n",
        "    self.selectedconvlayer=[0,5,10,19,28]\n",
        "    self.model=models.vgg19(pretrained=True).features[:29]\n",
        "  \n",
        "  def forward(self,i):\n",
        "    features=[]\n",
        "    for num,layer in enumerate(self.model):\n",
        "      i=layer(i)\n",
        "      if num in self.selectedconvlayer:\n",
        "        features.append(i)\n",
        "    return features"
      ],
      "execution_count": 13,
      "outputs": []
    },
    {
      "cell_type": "code",
      "metadata": {
        "id": "OjBl39FNIPXH"
      },
      "source": [
        "def img_load(img_name):\n",
        "  img=Image.open(img_name)\n",
        "  img=loader(img).unsqueeze(0)\n",
        "  return img.to(device)"
      ],
      "execution_count": 14,
      "outputs": []
    },
    {
      "cell_type": "code",
      "metadata": {
        "id": "bzVs6cgWInMH"
      },
      "source": [
        "device=torch.device(\"cuda\" if torch.cuda.is_available else \"cpu\")\n",
        "img_size=512"
      ],
      "execution_count": 15,
      "outputs": []
    },
    {
      "cell_type": "code",
      "metadata": {
        "id": "x08xDFchI1A2"
      },
      "source": [
        "loader=transforms.Compose(\n",
        "    [\n",
        "     transforms.Resize((img_size,img_size)),\n",
        "     transforms.ToTensor()\n",
        "    ]\n",
        ")"
      ],
      "execution_count": 16,
      "outputs": []
    },
    {
      "cell_type": "code",
      "metadata": {
        "id": "xViXWlG7JJZZ"
      },
      "source": [
        "original_img=img_load('Italy.jpg')\n",
        "style_img=img_load('starrynights.jpg')\n",
        "model=vgg().to(device).eval()\n",
        "gen=original_img.clone().requires_grad_(True)"
      ],
      "execution_count": 17,
      "outputs": []
    },
    {
      "cell_type": "code",
      "metadata": {
        "id": "pxAGzJn9JlSr"
      },
      "source": [
        "#Hyperparameters\n",
        "total_steps=8000\n",
        "learning_rate=0.001\n",
        "alpha=1\n",
        "beta=0.01\n",
        "loss=0"
      ],
      "execution_count": 18,
      "outputs": []
    },
    {
      "cell_type": "code",
      "metadata": {
        "id": "4yKywezuJv7j"
      },
      "source": [
        "optimizer=optim.Adam([gen],lr=learning_rate)"
      ],
      "execution_count": 19,
      "outputs": []
    },
    {
      "cell_type": "code",
      "metadata": {
        "colab": {
          "base_uri": "https://localhost:8080/"
        },
        "id": "36NDy_EbJ25M",
        "outputId": "492d40af-806a-42a0-cd1f-5b5db9c7b95b"
      },
      "source": [
        "for step in range(total_steps):\n",
        "  generated_f=model(gen)\n",
        "  original_f=model(original_img)\n",
        "  style_f=model(style_img)\n",
        "  loss_original=0\n",
        "  loss_style=0\n",
        "  for (gen_f,ori_f,st_f) in zip(generated_f,original_f,style_f):\n",
        "    _,channel,height,width=gen_f.shape\n",
        "    loss_original+=torch.mean((gen_f-ori_f)**2)\n",
        "    G=gen_f.view(channel,height*width).mm(gen_f.view(channel,height*width).t())\n",
        "    A=st_f.view(channel,height*width).mm(st_f.view(channel,height*width).t())\n",
        "    loss_style+=torch.mean((G-A)**2)\n",
        "  loss=alpha*loss_original+beta*loss_style\n",
        "  optimizer.zero_grad()\n",
        "  loss.backward()\n",
        "  optimizer.step()\n",
        "\n",
        "  if(step%200==0):\n",
        "    print('Total Loss: ',loss)\n",
        "    save_image(gen,\"final.png\")\n"
      ],
      "execution_count": 20,
      "outputs": [
        {
          "output_type": "stream",
          "text": [
            "Total Loss:  tensor(2138951.7500, device='cuda:0', grad_fn=<AddBackward0>)\n",
            "Total Loss:  tensor(111787.3672, device='cuda:0', grad_fn=<AddBackward0>)\n",
            "Total Loss:  tensor(50003.3438, device='cuda:0', grad_fn=<AddBackward0>)\n",
            "Total Loss:  tensor(28569.4141, device='cuda:0', grad_fn=<AddBackward0>)\n",
            "Total Loss:  tensor(20005.2637, device='cuda:0', grad_fn=<AddBackward0>)\n",
            "Total Loss:  tensor(15312.0986, device='cuda:0', grad_fn=<AddBackward0>)\n",
            "Total Loss:  tensor(12145.7881, device='cuda:0', grad_fn=<AddBackward0>)\n",
            "Total Loss:  tensor(9865.4824, device='cuda:0', grad_fn=<AddBackward0>)\n",
            "Total Loss:  tensor(8185.5215, device='cuda:0', grad_fn=<AddBackward0>)\n",
            "Total Loss:  tensor(6926.1934, device='cuda:0', grad_fn=<AddBackward0>)\n",
            "Total Loss:  tensor(5967.8262, device='cuda:0', grad_fn=<AddBackward0>)\n",
            "Total Loss:  tensor(5227.4331, device='cuda:0', grad_fn=<AddBackward0>)\n",
            "Total Loss:  tensor(4645.6313, device='cuda:0', grad_fn=<AddBackward0>)\n",
            "Total Loss:  tensor(4178.2715, device='cuda:0', grad_fn=<AddBackward0>)\n",
            "Total Loss:  tensor(3794.1355, device='cuda:0', grad_fn=<AddBackward0>)\n",
            "Total Loss:  tensor(3470.5735, device='cuda:0', grad_fn=<AddBackward0>)\n",
            "Total Loss:  tensor(3192.9695, device='cuda:0', grad_fn=<AddBackward0>)\n",
            "Total Loss:  tensor(2950.4795, device='cuda:0', grad_fn=<AddBackward0>)\n",
            "Total Loss:  tensor(2736.0046, device='cuda:0', grad_fn=<AddBackward0>)\n",
            "Total Loss:  tensor(2543.2991, device='cuda:0', grad_fn=<AddBackward0>)\n",
            "Total Loss:  tensor(2368.7893, device='cuda:0', grad_fn=<AddBackward0>)\n",
            "Total Loss:  tensor(2209.6604, device='cuda:0', grad_fn=<AddBackward0>)\n",
            "Total Loss:  tensor(2062.2498, device='cuda:0', grad_fn=<AddBackward0>)\n",
            "Total Loss:  tensor(1926.7311, device='cuda:0', grad_fn=<AddBackward0>)\n",
            "Total Loss:  tensor(1803.1581, device='cuda:0', grad_fn=<AddBackward0>)\n",
            "Total Loss:  tensor(1686.5392, device='cuda:0', grad_fn=<AddBackward0>)\n",
            "Total Loss:  tensor(1579.0859, device='cuda:0', grad_fn=<AddBackward0>)\n",
            "Total Loss:  tensor(1482.1511, device='cuda:0', grad_fn=<AddBackward0>)\n",
            "tensor(1390.9276, device='cuda:0', grad_fn=<AddBackward0>)\n",
            "Total Loss:  tensor(1301.0049, device='cuda:0', grad_fn=<AddBackward0>)\n",
            "Total Loss:  tensor(1221.6504, device='cuda:0', grad_fn=<AddBackward0>)\n",
            "Total Loss:  tensor(1148.0518, device='cuda:0', grad_fn=<AddBackward0>)\n",
            "Total Loss:  tensor(1080.5035, device='cuda:0', grad_fn=<AddBackward0>)\n",
            "Total Loss:  tensor(1021.1846, device='cuda:0', grad_fn=<AddBackward0>)\n",
            "Total Loss:  tensor(960.1843, device='cuda:0', grad_fn=<AddBackward0>)\n",
            "Total Loss:  tensor(916.3784, device='cuda:0', grad_fn=<AddBackward0>)\n",
            "Total Loss:  tensor(858.9115, device='cuda:0', grad_fn=<AddBackward0>)\n",
            "Total Loss:  tensor(819.5887, device='cuda:0', grad_fn=<AddBackward0>)\n",
            "Total Loss:  tensor(777.6870, device='cuda:0', grad_fn=<AddBackward0>)\n",
            "Total Loss:  tensor(738.9439, device='cuda:0', grad_fn=<AddBackward0>)\n"
          ],
          "name": "stdout"
        }
      ]
    }
  ]
}